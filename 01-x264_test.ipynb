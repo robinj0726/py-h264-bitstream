{
 "cells": [
  {
   "cell_type": "code",
   "execution_count": 8,
   "metadata": {},
   "outputs": [],
   "source": [
    "from bitstring import BitArray, BitStream\n",
    "from h264_stream import H264BitStream"
   ]
  },
  {
   "cell_type": "code",
   "execution_count": 9,
   "metadata": {},
   "outputs": [],
   "source": [
    "input_file = open(\"samples/x264_test.264\", \"rb\")\n",
    "bitstream = BitArray(input_file)\n",
    "\n",
    "start_code = '0x000001'\n"
   ]
  },
  {
   "cell_type": "markdown",
   "metadata": {},
   "source": [
    "To find the starting position and the ending postion for each NALU interatively."
   ]
  },
  {
   "cell_type": "code",
   "execution_count": 10,
   "metadata": {},
   "outputs": [],
   "source": [
    "pos = 0\n",
    "start_code_positions = []\n",
    "\n",
    "while True:\n",
    "    try:\n",
    "        pos = bitstream.find(start_code, start=pos, bytealigned=True)[0]\n",
    "        start_code_positions.append(pos)\n",
    "        pos += 1\n",
    "    except IndexError:\n",
    "        break\n",
    "\n",
    "start_code_positions.append(len(bitstream)) # add the last position\n"
   ]
  },
  {
   "cell_type": "code",
   "execution_count": 11,
   "metadata": {},
   "outputs": [
    {
     "name": "stdout",
     "output_type": "stream",
     "text": [
      "Found 1 NAL at offset [8, 240), size 232\n",
      "0x0000016764001eacd940a03db011000003000100000300328f162d9600\n",
      "Found 2 NAL at offset [240, 312), size 72\n",
      "0x00000168ebe3cb22c0\n",
      "Found 3 NAL at offset [312, 5824), size 5512\n",
      "0x0000010605ffffaadc45e9bde6d948b7962cd820d923eeef78323634202d20636f7265203134382072323634332035633635373034202d20482e3236342f4d5045472d342041564320636f646563202d20436f70796c65667420323030332d32303135202d20687474703a2f2f7777772e766964656f6c616e2e6f7267...\n",
      "Found 4 NAL at offset [5824, 6680), size 856\n",
      "0x000001658884003bfffef74ebf029b54c22a0392570af6caa42659b9526b01f2a600000300000300000300908471ee6b95c93d668000002f6008d83261c814411710811c19e258428748ca0000030000030000030000030000030000030000030000030000030000978100\n",
      "Found 5 NAL at offset [6680, 6864), size 184\n",
      "0x000001419a246c437ffea7840000030000030000594000\n",
      "Found 6 NAL at offset [6864, 7024), size 160\n",
      "0x000001419e427885ff0000030000030000352100\n",
      "Found 7 NAL at offset [7024, 7184), size 160\n",
      "0x000001019e617442bf000003000003000047c000\n",
      "Found 8 NAL at offset [7184, 7344), size 160\n",
      "0x000001019e636a42bf000003000003000047c100\n",
      "Found 9 NAL at offset [7344, 7568), size 224\n",
      "0x000001419a6849a84168994c0867fffe9e1000000300000300015b00\n",
      "Found 10 NAL at offset [7568, 7744), size 176\n",
      "0x000001419e8645112c2fff0000030000030000352100\n",
      "Found 11 NAL at offset [7744, 7904), size 160\n",
      "0x000001019ea57442bf000003000003000047c100\n",
      "Found 12 NAL at offset [7904, 8064), size 160\n",
      "0x000001019ea76a42bf000003000003000047c000\n",
      "Found 13 NAL at offset [8064, 8288), size 224\n",
      "0x000001419aac49a8416c994c0857fffe384000000300000300054c00\n",
      "Found 14 NAL at offset [8288, 8464), size 176\n",
      "0x000001419eca45152c2fff0000030000030000352100\n",
      "Found 15 NAL at offset [8464, 8624), size 160\n",
      "0x000001019ee97442bf000003000003000047c000\n",
      "Found 16 NAL at offset [8624, 8776), size 152\n",
      "0x000001019eeb6a42bf000003000003000047c0\n"
     ]
    }
   ],
   "source": [
    "n = len(start_code_positions)\n",
    "\n",
    "for i in range(n-1):\n",
    "    print(f'Found {i+1} NAL at offset [{start_code_positions[i]}, {start_code_positions[i+1]}), size {start_code_positions[i+1] - start_code_positions[i]}')\n",
    "    print(bitstream[start_code_positions[i]:start_code_positions[i+1]])"
   ]
  },
  {
   "cell_type": "markdown",
   "metadata": {},
   "source": [
    "Alternatively, the list of NAL units can be splited using BitArray.find()"
   ]
  },
  {
   "cell_type": "code",
   "execution_count": 18,
   "metadata": {},
   "outputs": [
    {
     "name": "stdout",
     "output_type": "stream",
     "text": [
      "0x0000016764001eacd940a03db011000003000100000300328f162d9600\n",
      "{'forbidden_zero_bit': 0, 'nal_ref_idc': 3, 'nal_unit_type': 7}\n",
      "0x00000168ebe3cb22c0\n",
      "{'forbidden_zero_bit': 0, 'nal_ref_idc': 3, 'nal_unit_type': 8}\n",
      "0x0000010605ffffaadc45e9bde6d948b7962cd820d923eeef78323634202d20636f7265203134382072323634332035633635373034202d20482e3236342f4d5045472d342041564320636f646563202d20436f70796c65667420323030332d32303135202d20687474703a2f2f7777772e766964656f6c616e2e6f7267...\n",
      "{'forbidden_zero_bit': 0, 'nal_ref_idc': 0, 'nal_unit_type': 6}\n",
      "0x000001658884003bfffef74ebf029b54c22a0392570af6caa42659b9526b01f2a600000300000300000300908471ee6b95c93d668000002f6008d83261c814411710811c19e258428748ca0000030000030000030000030000030000030000030000030000030000978100\n",
      "{'forbidden_zero_bit': 0, 'nal_ref_idc': 3, 'nal_unit_type': 5}\n",
      "0x000001419a246c437ffea7840000030000030000594000\n",
      "{'forbidden_zero_bit': 0, 'nal_ref_idc': 2, 'nal_unit_type': 1}\n",
      "0x000001419e427885ff0000030000030000352100\n",
      "{'forbidden_zero_bit': 0, 'nal_ref_idc': 2, 'nal_unit_type': 1}\n",
      "0x000001019e617442bf000003000003000047c000\n",
      "{'forbidden_zero_bit': 0, 'nal_ref_idc': 0, 'nal_unit_type': 1}\n",
      "0x000001019e636a42bf000003000003000047c100\n",
      "{'forbidden_zero_bit': 0, 'nal_ref_idc': 0, 'nal_unit_type': 1}\n",
      "0x000001419a6849a84168994c0867fffe9e1000000300000300015b00\n",
      "{'forbidden_zero_bit': 0, 'nal_ref_idc': 2, 'nal_unit_type': 1}\n",
      "0x000001419e8645112c2fff0000030000030000352100\n",
      "{'forbidden_zero_bit': 0, 'nal_ref_idc': 2, 'nal_unit_type': 1}\n",
      "0x000001019ea57442bf000003000003000047c100\n",
      "{'forbidden_zero_bit': 0, 'nal_ref_idc': 0, 'nal_unit_type': 1}\n",
      "0x000001019ea76a42bf000003000003000047c000\n",
      "{'forbidden_zero_bit': 0, 'nal_ref_idc': 0, 'nal_unit_type': 1}\n",
      "0x000001419aac49a8416c994c0857fffe384000000300000300054c00\n",
      "{'forbidden_zero_bit': 0, 'nal_ref_idc': 2, 'nal_unit_type': 1}\n",
      "0x000001419eca45152c2fff0000030000030000352100\n",
      "{'forbidden_zero_bit': 0, 'nal_ref_idc': 2, 'nal_unit_type': 1}\n",
      "0x000001019ee97442bf000003000003000047c000\n",
      "{'forbidden_zero_bit': 0, 'nal_ref_idc': 0, 'nal_unit_type': 1}\n",
      "0x000001019eeb6a42bf000003000003000047c0\n",
      "{'forbidden_zero_bit': 0, 'nal_ref_idc': 0, 'nal_unit_type': 1}\n"
     ]
    }
   ],
   "source": [
    "nalus_ba = list(BitArray(input_file).split('0x000001', bytealigned=True))[1:]\n",
    "# print(len(nalus_ba))\n",
    "for nalu_ba in nalus_ba:\n",
    "    print(nalu_ba)\n",
    "    # nal to rbsp\n",
    "    # enulation_prevention_three_byte\n",
    "    nalu_ba.replace('0x000003', '0x0000', bytealigned=True)\n",
    "    nalu_bs = BitStream(nalu_ba)\n",
    "    nb = H264BitStream(nalu_bs)\n",
    "    params = {\"forbidden_zero_bit\" : nb.f(1),\n",
    "              \"nal_ref_idc\" : nb.u(2),\n",
    "              \"nal_unit_type\" : nb.u(5)}\n",
    "    print(params)\n"
   ]
  },
  {
   "cell_type": "markdown",
   "metadata": {},
   "source": []
  }
 ],
 "metadata": {
  "kernelspec": {
   "display_name": "thinkdsp",
   "language": "python",
   "name": "python3"
  },
  "language_info": {
   "codemirror_mode": {
    "name": "ipython",
    "version": 3
   },
   "file_extension": ".py",
   "mimetype": "text/x-python",
   "name": "python",
   "nbconvert_exporter": "python",
   "pygments_lexer": "ipython3",
   "version": "3.10.14"
  }
 },
 "nbformat": 4,
 "nbformat_minor": 2
}
