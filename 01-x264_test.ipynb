{
 "cells": [
  {
   "cell_type": "code",
   "execution_count": 4,
   "metadata": {},
   "outputs": [],
   "source": [
    "from bitstring import BitArray, BitStream"
   ]
  },
  {
   "cell_type": "code",
   "execution_count": 22,
   "metadata": {},
   "outputs": [],
   "source": [
    "input_file = open(\"samples/x264_test.264\", \"rb\")\n",
    "bitstream = BitArray(input_file)\n",
    "\n",
    "start_code = '0x000001'\n"
   ]
  },
  {
   "cell_type": "markdown",
   "metadata": {},
   "source": [
    "To find the starting position and the ending postion for each NALU interatively."
   ]
  },
  {
   "cell_type": "code",
   "execution_count": 44,
   "metadata": {},
   "outputs": [
    {
     "name": "stdout",
     "output_type": "stream",
     "text": [
      "[8, 240, 312, 5824, 6680, 6864, 7024, 7184, 7344, 7568, 7744, 7904, 8064, 8288, 8464, 8624, 8776]\n",
      "17\n"
     ]
    }
   ],
   "source": [
    "pos = 0\n",
    "start_code_positions = []\n",
    "\n",
    "while True:\n",
    "    try:\n",
    "        pos = bitstream.find(start_code, start=pos, bytealigned=True)[0]\n",
    "        start_code_positions.append(pos)\n",
    "        pos += 1\n",
    "    except IndexError:\n",
    "        break\n",
    "start_code_positions.append(len(bitstream)) # add the last position\n",
    "print(start_code_positions)\n",
    "print(len(start_code_positions))\n"
   ]
  },
  {
   "cell_type": "code",
   "execution_count": 45,
   "metadata": {},
   "outputs": [
    {
     "name": "stdout",
     "output_type": "stream",
     "text": [
      "[1] start=8 end=240\n",
      "0x0000016764001eacd940a03db011000003000100000300328f162d9600\n",
      "[2] start=240 end=312\n",
      "0x00000168ebe3cb22c0\n",
      "[3] start=312 end=5824\n",
      "0x0000010605ffffaadc45e9bde6d948b7962cd820d923eeef78323634202d20636f7265203134382072323634332035633635373034202d20482e3236342f4d5045472d342041564320636f646563202d20436f70796c65667420323030332d32303135202d20687474703a2f2f7777772e766964656f6c616e2e6f7267...\n",
      "[4] start=5824 end=6680\n",
      "0x000001658884003bfffef74ebf029b54c22a0392570af6caa42659b9526b01f2a600000300000300000300908471ee6b95c93d668000002f6008d83261c814411710811c19e258428748ca0000030000030000030000030000030000030000030000030000030000978100\n",
      "[5] start=6680 end=6864\n",
      "0x000001419a246c437ffea7840000030000030000594000\n",
      "[6] start=6864 end=7024\n",
      "0x000001419e427885ff0000030000030000352100\n",
      "[7] start=7024 end=7184\n",
      "0x000001019e617442bf000003000003000047c000\n",
      "[8] start=7184 end=7344\n",
      "0x000001019e636a42bf000003000003000047c100\n",
      "[9] start=7344 end=7568\n",
      "0x000001419a6849a84168994c0867fffe9e1000000300000300015b00\n",
      "[10] start=7568 end=7744\n",
      "0x000001419e8645112c2fff0000030000030000352100\n",
      "[11] start=7744 end=7904\n",
      "0x000001019ea57442bf000003000003000047c100\n",
      "[12] start=7904 end=8064\n",
      "0x000001019ea76a42bf000003000003000047c000\n",
      "[13] start=8064 end=8288\n",
      "0x000001419aac49a8416c994c0857fffe384000000300000300054c00\n",
      "[14] start=8288 end=8464\n",
      "0x000001419eca45152c2fff0000030000030000352100\n",
      "[15] start=8464 end=8624\n",
      "0x000001019ee97442bf000003000003000047c000\n",
      "[16] start=8624 end=8776\n",
      "0x000001019eeb6a42bf000003000003000047c0\n"
     ]
    }
   ],
   "source": [
    "n = len(start_code_positions)\n",
    "for i in range(n-1):\n",
    "    print(f'[{i+1}] start={start_code_positions[i]} end={start_code_positions[i+1]}')\n",
    "    print(bitstream[start_code_positions[i]:start_code_positions[i+1]])"
   ]
  },
  {
   "cell_type": "markdown",
   "metadata": {},
   "source": [
    "Alternatively, the list of NAL units can be splited using BitArray.find()"
   ]
  },
  {
   "cell_type": "code",
   "execution_count": 39,
   "metadata": {},
   "outputs": [
    {
     "name": "stdout",
     "output_type": "stream",
     "text": [
      "0x0000016764001eacd940a03db011000003000100000300328f162d9600\n",
      "0x00000168ebe3cb22c0\n",
      "0x0000010605ffffaadc45e9bde6d948b7962cd820d923eeef78323634202d20636f7265203134382072323634332035633635373034202d20482e3236342f4d5045472d342041564320636f646563202d20436f70796c65667420323030332d32303135202d20687474703a2f2f7777772e766964656f6c616e2e6f7267...\n",
      "0x000001658884003bfffef74ebf029b54c22a0392570af6caa42659b9526b01f2a600000300000300000300908471ee6b95c93d668000002f6008d83261c814411710811c19e258428748ca0000030000030000030000030000030000030000030000030000030000978100\n",
      "0x000001419a246c437ffea7840000030000030000594000\n",
      "0x000001419e427885ff0000030000030000352100\n",
      "0x000001019e617442bf000003000003000047c000\n",
      "0x000001019e636a42bf000003000003000047c100\n",
      "0x000001419a6849a84168994c0867fffe9e1000000300000300015b00\n",
      "0x000001419e8645112c2fff0000030000030000352100\n",
      "0x000001019ea57442bf000003000003000047c100\n",
      "0x000001019ea76a42bf000003000003000047c000\n",
      "0x000001419aac49a8416c994c0857fffe384000000300000300054c00\n",
      "0x000001419eca45152c2fff0000030000030000352100\n",
      "0x000001019ee97442bf000003000003000047c000\n",
      "0x000001019eeb6a42bf000003000003000047c0\n"
     ]
    }
   ],
   "source": [
    "nalus_ba = list(BitArray(input_file).split('0x000001', bytealigned=True))[1:]\n",
    "# print(len(nalus_ba))\n",
    "for nalu_ba in nalus_ba:\n",
    "    print(nalu_ba)\n",
    "    # enulation_prevention_three_byte\n",
    "    nalu_ba.replace('0x000003', '0x0000', bytealigned=True)\n"
   ]
  },
  {
   "cell_type": "markdown",
   "metadata": {},
   "source": []
  }
 ],
 "metadata": {
  "kernelspec": {
   "display_name": "thinkdsp",
   "language": "python",
   "name": "python3"
  },
  "language_info": {
   "codemirror_mode": {
    "name": "ipython",
    "version": 3
   },
   "file_extension": ".py",
   "mimetype": "text/x-python",
   "name": "python",
   "nbconvert_exporter": "python",
   "pygments_lexer": "ipython3",
   "version": "3.10.14"
  }
 },
 "nbformat": 4,
 "nbformat_minor": 2
}
